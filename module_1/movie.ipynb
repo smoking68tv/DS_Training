{
 "metadata": {
  "language_info": {
   "codemirror_mode": {
    "name": "ipython",
    "version": 3
   },
   "file_extension": ".py",
   "mimetype": "text/x-python",
   "name": "python",
   "nbconvert_exporter": "python",
   "pygments_lexer": "ipython3",
   "version": "3.8.2-final"
  },
  "orig_nbformat": 2,
  "kernelspec": {
   "name": "python_defaultSpec_1597854962709",
   "display_name": "Python 3.8.2 64-bit"
  }
 },
 "nbformat": 4,
 "nbformat_minor": 2,
 "cells": [
  {
   "cell_type": "code",
   "execution_count": 106,
   "metadata": {
    "tags": []
   },
   "outputs": [
    {
     "output_type": "execute_result",
     "data": {
      "text/plain": "                                                  imdb_id\ngenres                                                   \nAction|Adventure|Drama|Mystery|Science Fiction  tt0448011\nAction|Adventure|Mystery|Thriller               tt0465234\nAction|Crime                                    tt1250777\nAction|Crime|Drama|Thriller                     tt1656186\nAction|Crime|Thriller                           tt0814022\nAction|Drama|Thriller                           tt1214962\nAction|Fantasy|Thriller                         tt1071875\nAction|Science Fiction|Thriller                 tt0435705\nAdventure|Action|Thriller|Mystery               tt0368891\nAdventure|Animation|Comedy|Family|Fantasy       tt0481499\nAdventure|Fantasy|Action                        tt0479997\nAnimation|Action|Family|Science Fiction         tt0375568\nComedy|Crime|Drama                              tt0268126\nComedy|Drama                                    tt0384680\nComedy|Drama|Romance|Fantasy                    tt0218967\nCrime|Drama|Thriller                            tt1674784\nDrama|Action|History|War                        tt0245562\nDrama|Crime                                     tt1095217\nDrama|History|Thriller                          tt0469641\nFantasy|Adventure|Action|Comedy|Drama           tt0963966\nFantasy|Adventure|Animation|Comedy|Family       tt0429589\nFantasy|Thriller|Action|Crime                   tt1502404\nThriller|Action|Fantasy|Horror                  tt0259324\nThriller|Action|Science Fiction                 tt2467046\nThriller|Crime                                  tt2005374",
      "text/html": "<div>\n<style scoped>\n    .dataframe tbody tr th:only-of-type {\n        vertical-align: middle;\n    }\n\n    .dataframe tbody tr th {\n        vertical-align: top;\n    }\n\n    .dataframe thead th {\n        text-align: right;\n    }\n</style>\n<table border=\"1\" class=\"dataframe\">\n  <thead>\n    <tr style=\"text-align: right;\">\n      <th></th>\n      <th>imdb_id</th>\n    </tr>\n    <tr>\n      <th>genres</th>\n      <th></th>\n    </tr>\n  </thead>\n  <tbody>\n    <tr>\n      <th>Action|Adventure|Drama|Mystery|Science Fiction</th>\n      <td>tt0448011</td>\n    </tr>\n    <tr>\n      <th>Action|Adventure|Mystery|Thriller</th>\n      <td>tt0465234</td>\n    </tr>\n    <tr>\n      <th>Action|Crime</th>\n      <td>tt1250777</td>\n    </tr>\n    <tr>\n      <th>Action|Crime|Drama|Thriller</th>\n      <td>tt1656186</td>\n    </tr>\n    <tr>\n      <th>Action|Crime|Thriller</th>\n      <td>tt0814022</td>\n    </tr>\n    <tr>\n      <th>Action|Drama|Thriller</th>\n      <td>tt1214962</td>\n    </tr>\n    <tr>\n      <th>Action|Fantasy|Thriller</th>\n      <td>tt1071875</td>\n    </tr>\n    <tr>\n      <th>Action|Science Fiction|Thriller</th>\n      <td>tt0435705</td>\n    </tr>\n    <tr>\n      <th>Adventure|Action|Thriller|Mystery</th>\n      <td>tt0368891</td>\n    </tr>\n    <tr>\n      <th>Adventure|Animation|Comedy|Family|Fantasy</th>\n      <td>tt0481499</td>\n    </tr>\n    <tr>\n      <th>Adventure|Fantasy|Action</th>\n      <td>tt0479997</td>\n    </tr>\n    <tr>\n      <th>Animation|Action|Family|Science Fiction</th>\n      <td>tt0375568</td>\n    </tr>\n    <tr>\n      <th>Comedy|Crime|Drama</th>\n      <td>tt0268126</td>\n    </tr>\n    <tr>\n      <th>Comedy|Drama</th>\n      <td>tt0384680</td>\n    </tr>\n    <tr>\n      <th>Comedy|Drama|Romance|Fantasy</th>\n      <td>tt0218967</td>\n    </tr>\n    <tr>\n      <th>Crime|Drama|Thriller</th>\n      <td>tt1674784</td>\n    </tr>\n    <tr>\n      <th>Drama|Action|History|War</th>\n      <td>tt0245562</td>\n    </tr>\n    <tr>\n      <th>Drama|Crime</th>\n      <td>tt1095217</td>\n    </tr>\n    <tr>\n      <th>Drama|History|Thriller</th>\n      <td>tt0469641</td>\n    </tr>\n    <tr>\n      <th>Fantasy|Adventure|Action|Comedy|Drama</th>\n      <td>tt0963966</td>\n    </tr>\n    <tr>\n      <th>Fantasy|Adventure|Animation|Comedy|Family</th>\n      <td>tt0429589</td>\n    </tr>\n    <tr>\n      <th>Fantasy|Thriller|Action|Crime</th>\n      <td>tt1502404</td>\n    </tr>\n    <tr>\n      <th>Thriller|Action|Fantasy|Horror</th>\n      <td>tt0259324</td>\n    </tr>\n    <tr>\n      <th>Thriller|Action|Science Fiction</th>\n      <td>tt2467046</td>\n    </tr>\n    <tr>\n      <th>Thriller|Crime</th>\n      <td>tt2005374</td>\n    </tr>\n  </tbody>\n</table>\n</div>"
     },
     "metadata": {},
     "execution_count": 106
    }
   ],
   "source": [
    "import numpy as np\n",
    "import pandas as pd\n",
    "import seaborn as sns\n",
    "import matplotlib.pyplot as plt\n",
    "from collections import Counter\n",
    "\n",
    "data = pd.read_csv('./src/movie_bd_v5.xls')\n",
    "\n",
    "\n",
    "answers = {}\n",
    "\n",
    "def get_list(items, sep='|'):\n",
    "    target = []\n",
    "    for item in items:\n",
    "        split_item = item.split(sep)\n",
    "        for i in split_item:\n",
    "            if not i in target:\n",
    "                target.append(i)\n",
    "    return target\n",
    "\n",
    "actors = get_list(data.cast.values)\n",
    "genres = get_list(data.genres.values)\n",
    "\n",
    "data[(data.revenue - data.budget) == max(data.revenue - data.budget)]\n",
    "answers['6'] = 'Avatar +'\n",
    "\n",
    "data[(data.revenue - data.budget) == min(data.revenue - data.budget)]\n",
    "answers['7'] = 'The Lone Ranger\t +'\n",
    "\n",
    "len(data.query('revenue > budget'))\n",
    "answers['8'] = '1478 +'\n",
    "\n",
    "data[(data.release_year == 2008)].sort_values('revenue', ascending=False)\n",
    "answers['9'] = 'The Dark Knight\t +'\n",
    "\n",
    "sm_data = data.query('release_year >= 2012 and release_year <= 2014')\n",
    "sm_data[(data.revenue - data.budget) == min(data.revenue - data.budget)]\n",
    "answers['10'] = 'The Lone Ranger\t +'\n",
    "\n",
    "####### 11-17\n",
    "\n",
    "pd.value_counts(data.genres)\n",
    "answers['11'] = 'Comedy +'\n",
    "\n",
    "sm_data = data[(data.revenue - data.budget) > 0]\n",
    "pd.value_counts(sm_data.genres)\n",
    "answers['12'] = 'Comedy +'\n",
    "\n",
    "pivot = data.pivot_table(values='revenue', index='director', aggfunc=\"sum\")\n",
    "pivot[pivot.values == max(pivot.values)]\n",
    "answers['13'] = 'Peter Jackson\t +'\n",
    "\n",
    "group = data[data.genres.str.contains('Action')].groupby(['director'])[['genres']].count().sort_values('genres', ascending=False)\n",
    "answers['14'] = 'Ridley Scott +'\n",
    "\n",
    "data.query('release_year == 2012').sort_values('revenue',  ascending=False).head(1).cast.values\n",
    "answers['15'] = 'Chris Hemsworth +'\n",
    "\n",
    "\n",
    "data[data.cast.str.contains('Nicolas Cage')].groupby(['genres'])[['imdb_id']].max()\n",
    "\n"
   ]
  },
  {
   "cell_type": "code",
   "execution_count": null,
   "metadata": {},
   "outputs": [],
   "source": []
  }
 ]
}